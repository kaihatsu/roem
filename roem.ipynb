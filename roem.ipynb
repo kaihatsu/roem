{
  "nbformat": 4,
  "nbformat_minor": 0,
  "metadata": {
    "colab": {
      "name": "roem.ipynb",
      "version": "0.3.2",
      "provenance": [],
      "collapsed_sections": [],
      "include_colab_link": true
    },
    "kernelspec": {
      "name": "python3",
      "display_name": "Python 3"
    }
  },
  "cells": [
    {
      "cell_type": "markdown",
      "metadata": {
        "id": "view-in-github",
        "colab_type": "text"
      },
      "source": [
        "<a href=\"https://colab.research.google.com/github/kaihatsu/roem/blob/master/roem.ipynb\" target=\"_parent\"><img src=\"https://colab.research.google.com/assets/colab-badge.svg\" alt=\"Open In Colab\"/></a>"
      ]
    },
    {
      "cell_type": "markdown",
      "metadata": {
        "id": "cm6ByQbmp7QB",
        "colab_type": "text"
      },
      "source": [
        "# Solving the ROEM\n"
      ]
    },
    {
      "cell_type": "code",
      "metadata": {
        "id": "jr2Bbd4Fpcaf",
        "colab_type": "code",
        "outputId": "2a296cce-7327-4b68-ac45-7726515b315d",
        "colab": {
          "base_uri": "https://localhost:8080/",
          "height": 714
        }
      },
      "source": [
        "#pip install dolo\n",
        "pip install git+git://github.com/econforge/dolo.git@albop/rewrite_language"
      ],
      "execution_count": 1,
      "outputs": [
        {
          "output_type": "stream",
          "text": [
            "Collecting git+git://github.com/econforge/dolo.git@albop/rewrite_language\n",
            "  Cloning git://github.com/econforge/dolo.git (to revision albop/rewrite_language) to /tmp/pip-req-build-41qotm_0\n",
            "  Running command git clone -q git://github.com/econforge/dolo.git /tmp/pip-req-build-41qotm_0\n",
            "  Running command git checkout -b albop/rewrite_language --track origin/albop/rewrite_language\n",
            "  Switched to a new branch 'albop/rewrite_language'\n",
            "  Branch 'albop/rewrite_language' set up to track remote branch 'albop/rewrite_language' from 'origin'.\n",
            "Requirement already satisfied (use --upgrade to upgrade): dolo==0.4.9.9 from git+git://github.com/econforge/dolo.git@albop/rewrite_language in /usr/local/lib/python3.6/dist-packages\n",
            "Requirement already satisfied: dolang in /usr/local/lib/python3.6/dist-packages (from dolo==0.4.9.9) (0.0.7)\n",
            "Requirement already satisfied: pyyaml in /usr/local/lib/python3.6/dist-packages (from dolo==0.4.9.9) (3.13)\n",
            "Requirement already satisfied: numba in /usr/local/lib/python3.6/dist-packages (from dolo==0.4.9.9) (0.40.1)\n",
            "Requirement already satisfied: numpy in /usr/local/lib/python3.6/dist-packages (from dolo==0.4.9.9) (1.16.4)\n",
            "Requirement already satisfied: sympy in /usr/local/lib/python3.6/dist-packages (from dolo==0.4.9.9) (1.1.1)\n",
            "Requirement already satisfied: scipy in /usr/local/lib/python3.6/dist-packages (from dolo==0.4.9.9) (1.3.0)\n",
            "Requirement already satisfied: quantecon in /usr/local/lib/python3.6/dist-packages (from dolo==0.4.9.9) (0.4.5)\n",
            "Requirement already satisfied: pandas in /usr/local/lib/python3.6/dist-packages (from dolo==0.4.9.9) (0.24.2)\n",
            "Requirement already satisfied: interpolation in /usr/local/lib/python3.6/dist-packages (from dolo==0.4.9.9) (2.1.2)\n",
            "Requirement already satisfied: ruamel.yaml in /usr/local/lib/python3.6/dist-packages (from dolo==0.4.9.9) (0.16.0)\n",
            "Requirement already satisfied: xarray in /usr/local/lib/python3.6/dist-packages (from dolo==0.4.9.9) (0.11.3)\n",
            "Requirement already satisfied: altair in /usr/local/lib/python3.6/dist-packages (from dolo==0.4.9.9) (3.1.0)\n",
            "Requirement already satisfied: llvmlite>=0.25.0dev0 in /usr/local/lib/python3.6/dist-packages (from numba->dolo==0.4.9.9) (0.29.0)\n",
            "Requirement already satisfied: mpmath>=0.19 in /usr/local/lib/python3.6/dist-packages (from sympy->dolo==0.4.9.9) (1.1.0)\n",
            "Requirement already satisfied: requests in /usr/local/lib/python3.6/dist-packages (from quantecon->dolo==0.4.9.9) (2.21.0)\n",
            "Requirement already satisfied: python-dateutil>=2.5.0 in /usr/local/lib/python3.6/dist-packages (from pandas->dolo==0.4.9.9) (2.5.3)\n",
            "Requirement already satisfied: pytz>=2011k in /usr/local/lib/python3.6/dist-packages (from pandas->dolo==0.4.9.9) (2018.9)\n",
            "Requirement already satisfied: tempita in /usr/local/lib/python3.6/dist-packages (from interpolation->dolo==0.4.9.9) (0.5.2)\n",
            "Requirement already satisfied: ruamel.yaml.clib; platform_python_implementation == \"CPython\" and python_version < \"3.8\" in /usr/local/lib/python3.6/dist-packages (from ruamel.yaml->dolo==0.4.9.9) (0.1.0)\n",
            "Requirement already satisfied: jinja2 in /usr/local/lib/python3.6/dist-packages (from altair->dolo==0.4.9.9) (2.10.1)\n",
            "Requirement already satisfied: six in /usr/local/lib/python3.6/dist-packages (from altair->dolo==0.4.9.9) (1.12.0)\n",
            "Requirement already satisfied: toolz in /usr/local/lib/python3.6/dist-packages (from altair->dolo==0.4.9.9) (0.10.0)\n",
            "Requirement already satisfied: jsonschema in /usr/local/lib/python3.6/dist-packages (from altair->dolo==0.4.9.9) (2.6.0)\n",
            "Requirement already satisfied: entrypoints in /usr/local/lib/python3.6/dist-packages (from altair->dolo==0.4.9.9) (0.3)\n",
            "Requirement already satisfied: idna<2.9,>=2.5 in /usr/local/lib/python3.6/dist-packages (from requests->quantecon->dolo==0.4.9.9) (2.8)\n",
            "Requirement already satisfied: certifi>=2017.4.17 in /usr/local/lib/python3.6/dist-packages (from requests->quantecon->dolo==0.4.9.9) (2019.6.16)\n",
            "Requirement already satisfied: chardet<3.1.0,>=3.0.2 in /usr/local/lib/python3.6/dist-packages (from requests->quantecon->dolo==0.4.9.9) (3.0.4)\n",
            "Requirement already satisfied: urllib3<1.25,>=1.21.1 in /usr/local/lib/python3.6/dist-packages (from requests->quantecon->dolo==0.4.9.9) (1.24.3)\n",
            "Requirement already satisfied: MarkupSafe>=0.23 in /usr/local/lib/python3.6/dist-packages (from jinja2->altair->dolo==0.4.9.9) (1.1.1)\n",
            "Building wheels for collected packages: dolo\n",
            "  Building wheel for dolo (setup.py) ... \u001b[?25l\u001b[?25hdone\n",
            "  Created wheel for dolo: filename=dolo-0.4.9.9-cp36-none-any.whl size=135387 sha256=f66705a9514225548a242fa94f8a13dd0c6f71c93124ce1ce636da33396a06f4\n",
            "  Stored in directory: /tmp/pip-ephem-wheel-cache-76k8y4vc/wheels/e1/04/a5/98236759d3bbca1a4195a92fe8ff8908312ebe05da682900d4\n",
            "Successfully built dolo\n"
          ],
          "name": "stdout"
        }
      ]
    },
    {
      "cell_type": "code",
      "metadata": {
        "id": "5dXsygclqr4h",
        "colab_type": "code",
        "colab": {}
      },
      "source": [
        "from matplotlib import pyplot as plt\n",
        "import numpy as np"
      ],
      "execution_count": 0,
      "outputs": []
    },
    {
      "cell_type": "code",
      "metadata": {
        "id": "D1B_20h8qv25",
        "colab_type": "code",
        "colab": {}
      },
      "source": [
        "from dolo import *\n",
        "from dolo.algos import *\n",
        "#from dolo.algos import time_iteration\n",
        "#from dolo.algos import improved_time_iteration\n",
        "#from dolo.algos import plot_decision_rule, simulate, tabulate"
      ],
      "execution_count": 0,
      "outputs": []
    },
    {
      "cell_type": "code",
      "metadata": {
        "id": "l4gtZr7P2qez",
        "colab_type": "code",
        "colab": {}
      },
      "source": [
        "#from google.colab import drive\n",
        "#drive.mount('/content/drive')"
      ],
      "execution_count": 0,
      "outputs": []
    },
    {
      "cell_type": "code",
      "metadata": {
        "id": "oNnbiSADqwTS",
        "colab_type": "code",
        "colab": {
          "base_uri": "https://localhost:8080/",
          "height": 34
        },
        "outputId": "1c807ae5-2b44-4eca-aa01-73110dfce433"
      },
      "source": [
        "pwd"
      ],
      "execution_count": 5,
      "outputs": [
        {
          "output_type": "execute_result",
          "data": {
            "text/plain": [
              "'/content'"
            ]
          },
          "metadata": {
            "tags": []
          },
          "execution_count": 5
        }
      ]
    },
    {
      "cell_type": "code",
      "metadata": {
        "id": "fP1UQDG-rC2c",
        "colab_type": "code",
        "colab": {
          "base_uri": "https://localhost:8080/",
          "height": 1000
        },
        "outputId": "f2ebc3ee-27cc-430d-a40f-f2feed2f10ce"
      },
      "source": [
        "filename = 'https://raw.githubusercontent.com/kaihatsu/roem/master/roem.yaml'\n",
        "#filename='/content/drive/My Drive/Colab Notebooks/reom.yaml'\n",
        "pcat(filename)"
      ],
      "execution_count": 6,
      "outputs": [
        {
          "output_type": "execute_result",
          "data": {
            "text/html": [
              "<style>\n",
              "    .source .hll { background-color: #ffffcc }\n",
              ".source  { background: #f8f8f8; }\n",
              ".source .c { color: #408080; font-style: italic } /* Comment */\n",
              ".source .err { border: 1px solid #FF0000 } /* Error */\n",
              ".source .k { color: #008000; font-weight: bold } /* Keyword */\n",
              ".source .o { color: #666666 } /* Operator */\n",
              ".source .ch { color: #408080; font-style: italic } /* Comment.Hashbang */\n",
              ".source .cm { color: #408080; font-style: italic } /* Comment.Multiline */\n",
              ".source .cp { color: #BC7A00 } /* Comment.Preproc */\n",
              ".source .cpf { color: #408080; font-style: italic } /* Comment.PreprocFile */\n",
              ".source .c1 { color: #408080; font-style: italic } /* Comment.Single */\n",
              ".source .cs { color: #408080; font-style: italic } /* Comment.Special */\n",
              ".source .gd { color: #A00000 } /* Generic.Deleted */\n",
              ".source .ge { font-style: italic } /* Generic.Emph */\n",
              ".source .gr { color: #FF0000 } /* Generic.Error */\n",
              ".source .gh { color: #000080; font-weight: bold } /* Generic.Heading */\n",
              ".source .gi { color: #00A000 } /* Generic.Inserted */\n",
              ".source .go { color: #888888 } /* Generic.Output */\n",
              ".source .gp { color: #000080; font-weight: bold } /* Generic.Prompt */\n",
              ".source .gs { font-weight: bold } /* Generic.Strong */\n",
              ".source .gu { color: #800080; font-weight: bold } /* Generic.Subheading */\n",
              ".source .gt { color: #0044DD } /* Generic.Traceback */\n",
              ".source .kc { color: #008000; font-weight: bold } /* Keyword.Constant */\n",
              ".source .kd { color: #008000; font-weight: bold } /* Keyword.Declaration */\n",
              ".source .kn { color: #008000; font-weight: bold } /* Keyword.Namespace */\n",
              ".source .kp { color: #008000 } /* Keyword.Pseudo */\n",
              ".source .kr { color: #008000; font-weight: bold } /* Keyword.Reserved */\n",
              ".source .kt { color: #B00040 } /* Keyword.Type */\n",
              ".source .m { color: #666666 } /* Literal.Number */\n",
              ".source .s { color: #BA2121 } /* Literal.String */\n",
              ".source .na { color: #7D9029 } /* Name.Attribute */\n",
              ".source .nb { color: #008000 } /* Name.Builtin */\n",
              ".source .nc { color: #0000FF; font-weight: bold } /* Name.Class */\n",
              ".source .no { color: #880000 } /* Name.Constant */\n",
              ".source .nd { color: #AA22FF } /* Name.Decorator */\n",
              ".source .ni { color: #999999; font-weight: bold } /* Name.Entity */\n",
              ".source .ne { color: #D2413A; font-weight: bold } /* Name.Exception */\n",
              ".source .nf { color: #0000FF } /* Name.Function */\n",
              ".source .nl { color: #A0A000 } /* Name.Label */\n",
              ".source .nn { color: #0000FF; font-weight: bold } /* Name.Namespace */\n",
              ".source .nt { color: #008000; font-weight: bold } /* Name.Tag */\n",
              ".source .nv { color: #19177C } /* Name.Variable */\n",
              ".source .ow { color: #AA22FF; font-weight: bold } /* Operator.Word */\n",
              ".source .w { color: #bbbbbb } /* Text.Whitespace */\n",
              ".source .mb { color: #666666 } /* Literal.Number.Bin */\n",
              ".source .mf { color: #666666 } /* Literal.Number.Float */\n",
              ".source .mh { color: #666666 } /* Literal.Number.Hex */\n",
              ".source .mi { color: #666666 } /* Literal.Number.Integer */\n",
              ".source .mo { color: #666666 } /* Literal.Number.Oct */\n",
              ".source .sb { color: #BA2121 } /* Literal.String.Backtick */\n",
              ".source .sc { color: #BA2121 } /* Literal.String.Char */\n",
              ".source .sd { color: #BA2121; font-style: italic } /* Literal.String.Doc */\n",
              ".source .s2 { color: #BA2121 } /* Literal.String.Double */\n",
              ".source .se { color: #BB6622; font-weight: bold } /* Literal.String.Escape */\n",
              ".source .sh { color: #BA2121 } /* Literal.String.Heredoc */\n",
              ".source .si { color: #BB6688; font-weight: bold } /* Literal.String.Interpol */\n",
              ".source .sx { color: #008000 } /* Literal.String.Other */\n",
              ".source .sr { color: #BB6688 } /* Literal.String.Regex */\n",
              ".source .s1 { color: #BA2121 } /* Literal.String.Single */\n",
              ".source .ss { color: #19177C } /* Literal.String.Symbol */\n",
              ".source .bp { color: #008000 } /* Name.Builtin.Pseudo */\n",
              ".source .vc { color: #19177C } /* Name.Variable.Class */\n",
              ".source .vg { color: #19177C } /* Name.Variable.Global */\n",
              ".source .vi { color: #19177C } /* Name.Variable.Instance */\n",
              ".source .il { color: #666666 } /* Literal.Number.Integer.Long */\n",
              "    </style>\n",
              "    <table class=\"sourcetable\"><tr><td class=\"linenos\"><div class=\"linenodiv\"><pre> 1\n",
              " 2\n",
              " 3\n",
              " 4\n",
              " 5\n",
              " 6\n",
              " 7\n",
              " 8\n",
              " 9\n",
              "10\n",
              "11\n",
              "12\n",
              "13\n",
              "14\n",
              "15\n",
              "16\n",
              "17\n",
              "18\n",
              "19\n",
              "20\n",
              "21\n",
              "22\n",
              "23\n",
              "24\n",
              "25\n",
              "26\n",
              "27\n",
              "28\n",
              "29\n",
              "30\n",
              "31\n",
              "32\n",
              "33\n",
              "34\n",
              "35\n",
              "36\n",
              "37\n",
              "38\n",
              "39\n",
              "40\n",
              "41\n",
              "42\n",
              "43\n",
              "44\n",
              "45\n",
              "46\n",
              "47\n",
              "48\n",
              "49\n",
              "50\n",
              "51\n",
              "52\n",
              "53\n",
              "54\n",
              "55\n",
              "56\n",
              "57\n",
              "58\n",
              "59\n",
              "60\n",
              "61\n",
              "62\n",
              "63\n",
              "64\n",
              "65\n",
              "66\n",
              "67\n",
              "68\n",
              "69\n",
              "70\n",
              "71\n",
              "72\n",
              "73\n",
              "74\n",
              "75\n",
              "76\n",
              "77\n",
              "78\n",
              "79\n",
              "80\n",
              "81\n",
              "82\n",
              "83\n",
              "84\n",
              "85\n",
              "86</pre></div></td><td class=\"code\"><div class=\"source\"><pre><span></span><span class=\"l l-Scalar l-Scalar-Plain\">name</span><span class=\"p p-Indicator\">:</span> <span class=\"l l-Scalar l-Scalar-Plain\">ROEM</span>\n",
              "\n",
              "<span class=\"l l-Scalar l-Scalar-Plain\">symbols</span><span class=\"p p-Indicator\">:</span>\n",
              "\n",
              "   <span class=\"l l-Scalar l-Scalar-Plain\">exogenous</span><span class=\"p p-Indicator\">:</span> <span class=\"p p-Indicator\">[</span><span class=\"nv\">e_a1</span><span class=\"p p-Indicator\">,</span> <span class=\"nv\">e_a2</span><span class=\"p p-Indicator\">]</span>\n",
              "   <span class=\"l l-Scalar l-Scalar-Plain\">states</span><span class=\"p p-Indicator\">:</span> <span class=\"p p-Indicator\">[</span><span class=\"nv\">a1</span><span class=\"p p-Indicator\">,</span> <span class=\"nv\">a2</span><span class=\"p p-Indicator\">,</span> <span class=\"nv\">d</span><span class=\"p p-Indicator\">]</span>\n",
              "   <span class=\"l l-Scalar l-Scalar-Plain\">controls</span><span class=\"p p-Indicator\">:</span> <span class=\"p p-Indicator\">[</span><span class=\"nv\">b</span><span class=\"p p-Indicator\">,</span> <span class=\"nv\">p</span><span class=\"p p-Indicator\">,</span> <span class=\"nv\">m1</span><span class=\"p p-Indicator\">,</span> <span class=\"nv\">m2</span><span class=\"p p-Indicator\">]</span>\n",
              "   <span class=\"c1\">#auxiliaries: [y1, y2, c1, c2, Lambda]</span>\n",
              "   <span class=\"c1\">#expectations: [m1, m2]</span>\n",
              "   <span class=\"l l-Scalar l-Scalar-Plain\">values</span><span class=\"p p-Indicator\">:</span> <span class=\"p p-Indicator\">[</span><span class=\"nv\">V1</span><span class=\"p p-Indicator\">,</span> <span class=\"nv\">V2</span><span class=\"p p-Indicator\">]</span>\n",
              "   <span class=\"l l-Scalar l-Scalar-Plain\">parameters</span><span class=\"p p-Indicator\">:</span> <span class=\"p p-Indicator\">[</span><span class=\"nv\">beta</span><span class=\"p p-Indicator\">,</span> <span class=\"nv\">rho</span><span class=\"p p-Indicator\">,</span> <span class=\"nv\">a1_0</span><span class=\"p p-Indicator\">,</span> <span class=\"nv\">a2_0</span><span class=\"p p-Indicator\">,</span> <span class=\"nv\">a1_bar</span><span class=\"p p-Indicator\">,</span> <span class=\"nv\">a2_bar</span><span class=\"p p-Indicator\">,</span> <span class=\"nv\">sig_a1</span><span class=\"p p-Indicator\">,</span> <span class=\"nv\">sig_a2</span><span class=\"p p-Indicator\">,</span> <span class=\"nv\">corr_a</span><span class=\"p p-Indicator\">,</span> <span class=\"nv\">b_lower</span><span class=\"p p-Indicator\">,</span> <span class=\"nv\">b_upper</span><span class=\"p p-Indicator\">]</span>\n",
              "\n",
              "<span class=\"l l-Scalar l-Scalar-Plain\">definitions</span><span class=\"p p-Indicator\">:</span>\n",
              "\n",
              "    <span class=\"l l-Scalar l-Scalar-Plain\">y1</span><span class=\"p p-Indicator\">:</span> <span class=\"l l-Scalar l-Scalar-Plain\">exp(a1)</span>\n",
              "    <span class=\"l l-Scalar l-Scalar-Plain\">y2</span><span class=\"p p-Indicator\">:</span> <span class=\"l l-Scalar l-Scalar-Plain\">exp(a2)</span>\n",
              "    <span class=\"l l-Scalar l-Scalar-Plain\">c1</span><span class=\"p p-Indicator\">:</span> <span class=\"l l-Scalar l-Scalar-Plain\">y1 + d - b*p</span>\n",
              "    <span class=\"l l-Scalar l-Scalar-Plain\">c2</span><span class=\"p p-Indicator\">:</span> <span class=\"l l-Scalar l-Scalar-Plain\">y2 - d + b*p</span>\n",
              "    <span class=\"l l-Scalar l-Scalar-Plain\">Lambda</span><span class=\"p p-Indicator\">:</span> <span class=\"l l-Scalar l-Scalar-Plain\">(b-b_lower)/(b_upper-b_lower)</span>\n",
              "    <span class=\"c1\">#rk: alpha*y/k</span>\n",
              "    <span class=\"c1\">#w: (1-alpha)*y/n</span>\n",
              "\n",
              "<span class=\"l l-Scalar l-Scalar-Plain\">equations</span><span class=\"p p-Indicator\">:</span>\n",
              "\n",
              "    <span class=\"l l-Scalar l-Scalar-Plain\">arbitrage</span><span class=\"p p-Indicator\">:</span>\n",
              "        <span class=\"p p-Indicator\">-</span> <span class=\"l l-Scalar l-Scalar-Plain\">m2 - m1  | b_lower &lt;= b &lt;= b_upper</span>\n",
              "        <span class=\"p p-Indicator\">-</span> <span class=\"l l-Scalar l-Scalar-Plain\">p = Lambda*m1 + (1-Lambda)*m2</span>   <span class=\"c1\">#| -inf &lt;= p &lt;= inf</span>\n",
              "        <span class=\"p p-Indicator\">-</span> <span class=\"l l-Scalar l-Scalar-Plain\">m1 = beta*(c1/c1(1))</span>\n",
              "        <span class=\"p p-Indicator\">-</span> <span class=\"l l-Scalar l-Scalar-Plain\">m2 = beta*(c2/c2(1))</span>\n",
              " \n",
              "    <span class=\"l l-Scalar l-Scalar-Plain\">transition</span><span class=\"p p-Indicator\">:</span>\n",
              "        <span class=\"p p-Indicator\">-</span> <span class=\"l l-Scalar l-Scalar-Plain\">a1 = (1-rho)*a1_0 + rho*a1(-1) + e_a1</span>\n",
              "        <span class=\"p p-Indicator\">-</span> <span class=\"l l-Scalar l-Scalar-Plain\">a2 = (1-rho)*a2_0 + rho*a2(-1) + e_a2</span>\n",
              "        <span class=\"p p-Indicator\">-</span> <span class=\"l l-Scalar l-Scalar-Plain\">d = b(-1)</span>\n",
              "\n",
              "    <span class=\"l l-Scalar l-Scalar-Plain\">value</span><span class=\"p p-Indicator\">:</span>\n",
              "        <span class=\"p p-Indicator\">-</span> <span class=\"l l-Scalar l-Scalar-Plain\">V1 = log(c1) + beta*V1(1)</span>\n",
              "        <span class=\"p p-Indicator\">-</span> <span class=\"l l-Scalar l-Scalar-Plain\">V2 = log(c2) + beta*V2(1)</span>\n",
              "\n",
              "<span class=\"l l-Scalar l-Scalar-Plain\">calibration</span><span class=\"p p-Indicator\">:</span>\n",
              "\n",
              "    <span class=\"c1\"># parameters</span>\n",
              "    <span class=\"l l-Scalar l-Scalar-Plain\">beta</span> <span class=\"p p-Indicator\">:</span> <span class=\"l l-Scalar l-Scalar-Plain\">0.96</span>\n",
              "    <span class=\"l l-Scalar l-Scalar-Plain\">b_lower</span> <span class=\"p p-Indicator\">:</span> <span class=\"l l-Scalar l-Scalar-Plain\">-10</span>\n",
              "    <span class=\"l l-Scalar l-Scalar-Plain\">b_upper</span> <span class=\"p p-Indicator\">:</span> <span class=\"l l-Scalar l-Scalar-Plain\">10</span>\n",
              "    <span class=\"l l-Scalar l-Scalar-Plain\">rho</span>  <span class=\"p p-Indicator\">:</span> <span class=\"l l-Scalar l-Scalar-Plain\">0.9</span>\n",
              "    <span class=\"l l-Scalar l-Scalar-Plain\">a1_bar</span> <span class=\"p p-Indicator\">:</span> <span class=\"l l-Scalar l-Scalar-Plain\">1</span>\n",
              "    <span class=\"l l-Scalar l-Scalar-Plain\">a2_bar</span> <span class=\"p p-Indicator\">:</span> <span class=\"l l-Scalar l-Scalar-Plain\">1</span>\n",
              "    <span class=\"l l-Scalar l-Scalar-Plain\">a1_0</span>   <span class=\"p p-Indicator\">:</span> <span class=\"l l-Scalar l-Scalar-Plain\">1</span>\n",
              "    <span class=\"l l-Scalar l-Scalar-Plain\">a2_0</span>   <span class=\"p p-Indicator\">:</span> <span class=\"l l-Scalar l-Scalar-Plain\">1</span> <span class=\"c1\"># .5</span>\n",
              "    <span class=\"l l-Scalar l-Scalar-Plain\">sig_a1</span> <span class=\"p p-Indicator\">:</span> <span class=\"l l-Scalar l-Scalar-Plain\">0.025</span>\n",
              "    <span class=\"l l-Scalar l-Scalar-Plain\">sig_a2</span> <span class=\"p p-Indicator\">:</span> <span class=\"l l-Scalar l-Scalar-Plain\">0.05</span>\n",
              "    <span class=\"l l-Scalar l-Scalar-Plain\">corr_a</span> <span class=\"p p-Indicator\">:</span> <span class=\"l l-Scalar l-Scalar-Plain\">0</span>\n",
              "\n",
              "    <span class=\"c1\"># endogenous variables</span>\n",
              "    <span class=\"l l-Scalar l-Scalar-Plain\">a1</span> <span class=\"p p-Indicator\">:</span> <span class=\"l l-Scalar l-Scalar-Plain\">a1_bar</span>\n",
              "    <span class=\"l l-Scalar l-Scalar-Plain\">a2</span> <span class=\"p p-Indicator\">:</span> <span class=\"l l-Scalar l-Scalar-Plain\">a1_bar</span>\n",
              "    <span class=\"l l-Scalar l-Scalar-Plain\">d</span>  <span class=\"p p-Indicator\">:</span> <span class=\"l l-Scalar l-Scalar-Plain\">0</span>\n",
              "    <span class=\"l l-Scalar l-Scalar-Plain\">b</span>  <span class=\"p p-Indicator\">:</span> <span class=\"l l-Scalar l-Scalar-Plain\">d</span>\n",
              "    <span class=\"l l-Scalar l-Scalar-Plain\">p</span>  <span class=\"p p-Indicator\">:</span> <span class=\"l l-Scalar l-Scalar-Plain\">beta</span>\n",
              "    <span class=\"l l-Scalar l-Scalar-Plain\">y1</span> <span class=\"p p-Indicator\">:</span> <span class=\"l l-Scalar l-Scalar-Plain\">exp(a1)</span>\n",
              "    <span class=\"l l-Scalar l-Scalar-Plain\">y2</span> <span class=\"p p-Indicator\">:</span> <span class=\"l l-Scalar l-Scalar-Plain\">exp(a2)</span>\n",
              "    <span class=\"l l-Scalar l-Scalar-Plain\">c1</span> <span class=\"p p-Indicator\">:</span> <span class=\"l l-Scalar l-Scalar-Plain\">y1 + d - b*p</span>\n",
              "    <span class=\"l l-Scalar l-Scalar-Plain\">c2</span> <span class=\"p p-Indicator\">:</span> <span class=\"l l-Scalar l-Scalar-Plain\">y2 - d + b*p</span>\n",
              "    <span class=\"l l-Scalar l-Scalar-Plain\">m1</span> <span class=\"p p-Indicator\">:</span> <span class=\"l l-Scalar l-Scalar-Plain\">beta</span>\n",
              "    <span class=\"l l-Scalar l-Scalar-Plain\">m2</span> <span class=\"p p-Indicator\">:</span> <span class=\"l l-Scalar l-Scalar-Plain\">beta</span>\n",
              "    <span class=\"l l-Scalar l-Scalar-Plain\">V1</span> <span class=\"p p-Indicator\">:</span> <span class=\"l l-Scalar l-Scalar-Plain\">log(c1)</span>\n",
              "    <span class=\"l l-Scalar l-Scalar-Plain\">V2</span> <span class=\"p p-Indicator\">:</span> <span class=\"l l-Scalar l-Scalar-Plain\">log(c2)</span>\n",
              "    <span class=\"l l-Scalar l-Scalar-Plain\">Lambda</span> <span class=\"p p-Indicator\">:</span> <span class=\"l l-Scalar l-Scalar-Plain\">(b-b_lower)/(b_upper-b_lower)</span>\n",
              "\n",
              "<span class=\"l l-Scalar l-Scalar-Plain\">exogenous</span><span class=\"p p-Indicator\">:</span> <span class=\"kt\">!Normal</span>\n",
              "    <span class=\"l l-Scalar l-Scalar-Plain\">Sigma</span><span class=\"p p-Indicator\">:</span> <span class=\"p p-Indicator\">[[</span> <span class=\"nv\">sig_a1</span><span class=\"p p-Indicator\">,</span> <span class=\"nv\">corr_a</span> <span class=\"p p-Indicator\">],</span>\n",
              "            <span class=\"p p-Indicator\">[</span> <span class=\"nv\">corr_a</span><span class=\"p p-Indicator\">,</span> <span class=\"nv\">sig_a2</span> <span class=\"p p-Indicator\">]]</span>\n",
              "\n",
              "<span class=\"l l-Scalar l-Scalar-Plain\">domain</span><span class=\"p p-Indicator\">:</span>\n",
              "    <span class=\"l l-Scalar l-Scalar-Plain\">a1</span> <span class=\"p p-Indicator\">:</span> <span class=\"p p-Indicator\">[</span><span class=\"nv\">-2*sig_a1/(1-rho^2)^0.5</span><span class=\"p p-Indicator\">,</span>  <span class=\"nv\">2*sig_a1/(1-rho^2)^0.5</span><span class=\"p p-Indicator\">]</span>\n",
              "    <span class=\"l l-Scalar l-Scalar-Plain\">a2</span> <span class=\"p p-Indicator\">:</span> <span class=\"p p-Indicator\">[</span><span class=\"nv\">-2*sig_a2/(1-rho^2)^0.5</span><span class=\"p p-Indicator\">,</span>  <span class=\"nv\">2*sig_a2/(1-rho^2)^0.5</span><span class=\"p p-Indicator\">]</span>\n",
              "    <span class=\"l l-Scalar l-Scalar-Plain\">d</span>  <span class=\"p p-Indicator\">:</span> <span class=\"p p-Indicator\">[</span><span class=\"nv\">1</span><span class=\"p p-Indicator\">,</span> <span class=\"nv\">10</span><span class=\"p p-Indicator\">]</span>\n",
              "\n",
              "<span class=\"l l-Scalar l-Scalar-Plain\">options</span><span class=\"p p-Indicator\">:</span>\n",
              "    <span class=\"l l-Scalar l-Scalar-Plain\">grid</span><span class=\"p p-Indicator\">:</span> <span class=\"kt\">!Cartesian</span>\n",
              "        <span class=\"l l-Scalar l-Scalar-Plain\">b</span><span class=\"p p-Indicator\">:</span> <span class=\"p p-Indicator\">[</span><span class=\"nv\">3</span><span class=\"p p-Indicator\">,</span> <span class=\"nv\">3</span><span class=\"p p-Indicator\">,</span> <span class=\"nv\">30</span><span class=\"p p-Indicator\">]</span>\n",
              "<span class=\"c1\"># options:</span>\n",
              "<span class=\"c1\">#     grid: !Smolyak</span>\n",
              "<span class=\"c1\">#         mu: 3</span>\n",
              "<span class=\"c1\">#         # orders: [5, 50]</span>\n",
              "</pre></div>\n",
              "</td></tr></table>\n",
              "    "
            ],
            "text/plain": [
              "<IPython.core.display.HTML object>"
            ]
          },
          "metadata": {
            "tags": []
          },
          "execution_count": 6
        }
      ]
    },
    {
      "cell_type": "code",
      "metadata": {
        "id": "zCKUPXhxrLJd",
        "colab_type": "code",
        "colab": {
          "base_uri": "https://localhost:8080/",
          "height": 588
        },
        "outputId": "f156250f-da2e-40e0-8502-317c32e399dc"
      },
      "source": [
        "model = yaml_import(filename)\n",
        "model"
      ],
      "execution_count": 7,
      "outputs": [
        {
          "output_type": "execute_result",
          "data": {
            "text/html": [
              "\n",
              "        <table>\n",
              "         <td><b>Model</b></td>\n",
              "        <tr>\n",
              "        <td>name</td>\n",
              "        <td>ROEM</td>\n",
              "        </tr>\n",
              "        <tr>\n",
              "        <td>type</td>\n",
              "        <td>dtcc</td>\n",
              "        </tr>\n",
              "        <tr>\n",
              "        <td>filename</td>\n",
              "        <td>https://raw.githubusercontent.com/kaihatsu/roem/master/roem.yaml</td>\n",
              "        </tr>\n",
              "        </table><table><tr><td><b>Type</b></td><td><b>Equation</b></td><td><b>Residual</b></td></tr>\n",
              "<tr><td>arbitrage</td><td>$m2_{t} - m1_{t}$</td><td>0.000</td></tr>\n",
              "<tr><td></td><td>$p_{t} = \\Lambda_{t} \\; m1_{t} + \\left(1 - \\Lambda_{t}\\right) \\; m2_{t}$</td><td>0.000</td></tr>\n",
              "<tr><td></td><td>$m1_{t} = \\beta \\; \\frac{c1_{t}}{c1_{t+1}}$</td><td>0.000</td></tr>\n",
              "<tr><td></td><td>$m2_{t} = \\beta \\; \\frac{c2_{t}}{c2_{t+1}}$</td><td>0.000</td></tr><tr><td>transition</td><td>$a1_{t} = \\left(1 - \\rho\\right) \\; a1_{0} + \\rho \\; a1_{t-1} + e_{a1,t}$</td><td>0.000</td></tr>\n",
              "<tr><td></td><td>$a2_{t} = \\left(1 - \\rho\\right) \\; a2_{0} + \\rho \\; a2_{t-1} + e_{a2,t}$</td><td>0.000</td></tr>\n",
              "<tr><td></td><td>$d_{t} = b_{t-1}$</td><td>0.000</td></tr><tr><td>value</td><td>$V1_{t} = \\operatorname{log}\\left(c1_{t}\\right) + \\beta \\; V1_{t+1}$</td><td></td></tr>\n",
              "<tr><td></td><td>$V2_{t} = \\operatorname{log}\\left(c2_{t}\\right) + \\beta \\; V2_{t+1}$</td><td></td></tr><tr><td>controls_lb</td><td>$b_{lower}$</td><td></td></tr>\n",
              "<tr><td></td><td>$- inf$</td><td></td></tr>\n",
              "<tr><td></td><td>$- inf$</td><td></td></tr>\n",
              "<tr><td></td><td>$- inf$</td><td></td></tr><tr><td>controls_ub</td><td>$b_{upper}$</td><td></td></tr>\n",
              "<tr><td></td><td>$inf$</td><td></td></tr>\n",
              "<tr><td></td><td>$inf$</td><td></td></tr>\n",
              "<tr><td></td><td>$inf$</td><td></td></tr><tr><td>definitions</td><td>$y1_{t} = \\operatorname{exp}\\left(a1_{t}\\right)$</td><td></td></tr>\n",
              "<tr><td></td><td>$y2_{t} = \\operatorname{exp}\\left(a2_{t}\\right)$</td><td></td></tr>\n",
              "<tr><td></td><td>$c1_{t} = y1_{t} + d_{t} - b_{t} \\; p_{t}$</td><td></td></tr>\n",
              "<tr><td></td><td>$c2_{t} = y2_{t} - d_{t} + b_{t} \\; p_{t}$</td><td></td></tr>\n",
              "<tr><td></td><td>$\\Lambda_{t} = \\frac{b_{t} - b_{lower}}{b_{upper} - b_{lower}}$</td><td></td></tr></table>"
            ],
            "text/plain": [
              "\n",
              "        Model:\n",
              "        ------\n",
              "        name: \"ROEM\"\n",
              "        type: \"dtcc\"\n",
              "        file: \"https://raw.githubusercontent.com/kaihatsu/roem/master/roem.yaml\n",
              "\n",
              "Equations:\n",
              "----------\n",
              "\n",
              "transition\n",
              " 1  : 0.0000 : a1(0) == ((1) - (rho)) * (a1_0) + (rho) * (a1(-(1))) + e_a1(0)\n",
              " 2  : 0.0000 : a2(0) == ((1) - (rho)) * (a2_0) + (rho) * (a2(-(1))) + e_a2(0)\n",
              " 3  : 0.0000 : d(0) == b(-(1))\n",
              "\n",
              "arbitrage\n",
              " 1  : 0.0000 : (m2(0)) - (m1(0))\n",
              " 2  : 0.0000 : p(0) == (Lambda(0)) * (m1(0)) + ((1) - (Lambda(0))) * (m2(0))\n",
              " 3  : 0.0000 : m1(0) == (beta) * ((c1(0)) / (c1(1)))\n",
              " 4  : 0.0000 : m2(0) == (beta) * ((c2(0)) / (c2(1)))\n",
              "\n",
              "definitions\n",
              " 1  : y1 = exp(a1)\n",
              " 2  : y2 = exp(a2)\n",
              " 3  : c1 = y1 + d - b*p\n",
              " 4  : c2 = y2 - d + b*p\n",
              " 5  : Lambda = (b-b_lower)/(b_upper-b_lower)\n"
            ]
          },
          "metadata": {
            "tags": []
          },
          "execution_count": 7
        }
      ]
    },
    {
      "cell_type": "code",
      "metadata": {
        "id": "NL4Pf8trrt_X",
        "colab_type": "code",
        "colab": {
          "base_uri": "https://localhost:8080/",
          "height": 379
        },
        "outputId": "b33ea24e-05b0-47e9-f609-494567651b18"
      },
      "source": [
        "dr = time_iteration(model)"
      ],
      "execution_count": 8,
      "outputs": [
        {
          "output_type": "stream",
          "text": [
            "Solving WITH complementarities.\n",
            "------------------------------------------------\n",
            "| N   |  Error     | Gain     | Time     | nit |\n",
            "------------------------------------------------\n"
          ],
          "name": "stdout"
        },
        {
          "output_type": "error",
          "ename": "KeyboardInterrupt",
          "evalue": "ignored",
          "traceback": [
            "\u001b[0;31m---------------------------------------------------------------------------\u001b[0m",
            "\u001b[0;31mKeyboardInterrupt\u001b[0m                         Traceback (most recent call last)",
            "\u001b[0;32m<ipython-input-8-338c2c4d1d05>\u001b[0m in \u001b[0;36m<module>\u001b[0;34m()\u001b[0m\n\u001b[0;32m----> 1\u001b[0;31m \u001b[0mdr\u001b[0m \u001b[0;34m=\u001b[0m \u001b[0mtime_iteration\u001b[0m\u001b[0;34m(\u001b[0m\u001b[0mmodel\u001b[0m\u001b[0;34m)\u001b[0m\u001b[0;34m\u001b[0m\u001b[0;34m\u001b[0m\u001b[0m\n\u001b[0m",
            "\u001b[0;32m/usr/local/lib/python3.6/dist-packages/dolo/algos/time_iteration.py\u001b[0m in \u001b[0;36mtime_iteration\u001b[0;34m(model, initial_guess, dprocess, with_complementarities, verbose, grid, maxit, inner_maxit, tol, hook)\u001b[0m\n\u001b[1;32m    169\u001b[0m \u001b[0;34m\u001b[0m\u001b[0m\n\u001b[1;32m    170\u001b[0m         \u001b[0;32mif\u001b[0m \u001b[0mwith_complementarities\u001b[0m\u001b[0;34m:\u001b[0m\u001b[0;34m\u001b[0m\u001b[0;34m\u001b[0m\u001b[0m\n\u001b[0;32m--> 171\u001b[0;31m             \u001b[0;34m[\u001b[0m\u001b[0mcontrols\u001b[0m\u001b[0;34m,\u001b[0m\u001b[0mnit\u001b[0m\u001b[0;34m]\u001b[0m \u001b[0;34m=\u001b[0m \u001b[0mncpsolve\u001b[0m\u001b[0;34m(\u001b[0m\u001b[0mdfn\u001b[0m\u001b[0;34m,\u001b[0m \u001b[0mlb\u001b[0m\u001b[0;34m,\u001b[0m \u001b[0mub\u001b[0m\u001b[0;34m,\u001b[0m \u001b[0mcontrols_0\u001b[0m\u001b[0;34m,\u001b[0m \u001b[0mverbose\u001b[0m\u001b[0;34m=\u001b[0m\u001b[0mverbit\u001b[0m\u001b[0;34m,\u001b[0m \u001b[0mmaxit\u001b[0m\u001b[0;34m=\u001b[0m\u001b[0minner_maxit\u001b[0m\u001b[0;34m)\u001b[0m\u001b[0;34m\u001b[0m\u001b[0;34m\u001b[0m\u001b[0m\n\u001b[0m\u001b[1;32m    172\u001b[0m         \u001b[0;32melse\u001b[0m\u001b[0;34m:\u001b[0m\u001b[0;34m\u001b[0m\u001b[0;34m\u001b[0m\u001b[0m\n\u001b[1;32m    173\u001b[0m             \u001b[0;34m[\u001b[0m\u001b[0mcontrols\u001b[0m\u001b[0;34m,\u001b[0m \u001b[0mnit\u001b[0m\u001b[0;34m]\u001b[0m \u001b[0;34m=\u001b[0m \u001b[0mnewton\u001b[0m\u001b[0;34m(\u001b[0m\u001b[0mdfn\u001b[0m\u001b[0;34m,\u001b[0m \u001b[0mcontrols_0\u001b[0m\u001b[0;34m,\u001b[0m \u001b[0mverbose\u001b[0m\u001b[0;34m=\u001b[0m\u001b[0mverbit\u001b[0m\u001b[0;34m,\u001b[0m \u001b[0mmaxit\u001b[0m\u001b[0;34m=\u001b[0m\u001b[0minner_maxit\u001b[0m\u001b[0;34m)\u001b[0m\u001b[0;34m\u001b[0m\u001b[0;34m\u001b[0m\u001b[0m\n",
            "\u001b[0;32m/usr/local/lib/python3.6/dist-packages/dolo/numeric/optimize/ncpsolve.py\u001b[0m in \u001b[0;36mncpsolve\u001b[0;34m(f, a, b, x, tol, maxit, infos, verbose, jactype)\u001b[0m\n\u001b[1;32m     21\u001b[0m         \u001b[0;32mreturn\u001b[0m \u001b[0;34m[\u001b[0m\u001b[0mval\u001b[0m\u001b[0;34m,\u001b[0m \u001b[0mdval\u001b[0m\u001b[0;34m]\u001b[0m\u001b[0;34m\u001b[0m\u001b[0;34m\u001b[0m\u001b[0m\n\u001b[1;32m     22\u001b[0m \u001b[0;34m\u001b[0m\u001b[0m\n\u001b[0;32m---> 23\u001b[0;31m     \u001b[0;34m[\u001b[0m\u001b[0msol\u001b[0m\u001b[0;34m,\u001b[0m \u001b[0mnit\u001b[0m\u001b[0;34m]\u001b[0m \u001b[0;34m=\u001b[0m \u001b[0mnewton\u001b[0m\u001b[0;34m(\u001b[0m\u001b[0mfcmp\u001b[0m\u001b[0;34m,\u001b[0m \u001b[0mx\u001b[0m\u001b[0;34m,\u001b[0m \u001b[0mtol\u001b[0m\u001b[0;34m=\u001b[0m\u001b[0mtol\u001b[0m\u001b[0;34m,\u001b[0m \u001b[0mmaxit\u001b[0m\u001b[0;34m=\u001b[0m\u001b[0mmaxit\u001b[0m\u001b[0;34m,\u001b[0m \u001b[0mverbose\u001b[0m\u001b[0;34m=\u001b[0m\u001b[0mverbose\u001b[0m\u001b[0;34m,\u001b[0m \u001b[0mjactype\u001b[0m\u001b[0;34m=\u001b[0m\u001b[0mjactype\u001b[0m\u001b[0;34m)\u001b[0m\u001b[0;34m\u001b[0m\u001b[0;34m\u001b[0m\u001b[0m\n\u001b[0m\u001b[1;32m     24\u001b[0m \u001b[0;34m\u001b[0m\u001b[0m\n\u001b[1;32m     25\u001b[0m     \u001b[0;32mreturn\u001b[0m \u001b[0;34m[\u001b[0m\u001b[0msol\u001b[0m\u001b[0;34m,\u001b[0m \u001b[0mnit\u001b[0m\u001b[0;34m]\u001b[0m\u001b[0;34m\u001b[0m\u001b[0;34m\u001b[0m\u001b[0m\n",
            "\u001b[0;32m/usr/local/lib/python3.6/dist-packages/dolo/numeric/optimize/newton.py\u001b[0m in \u001b[0;36mnewton\u001b[0;34m(f, x, verbose, tol, maxit, jactype)\u001b[0m\n\u001b[1;32m    136\u001b[0m             \u001b[0;32mfor\u001b[0m \u001b[0mbck\u001b[0m \u001b[0;32min\u001b[0m \u001b[0mrange\u001b[0m\u001b[0;34m(\u001b[0m\u001b[0mmaxbacksteps\u001b[0m\u001b[0;34m)\u001b[0m\u001b[0;34m:\u001b[0m\u001b[0;34m\u001b[0m\u001b[0;34m\u001b[0m\u001b[0m\n\u001b[1;32m    137\u001b[0m                 \u001b[0mxx\u001b[0m \u001b[0;34m=\u001b[0m \u001b[0mx\u001b[0m \u001b[0;34m-\u001b[0m \u001b[0mdx\u001b[0m\u001b[0;34m*\u001b[0m\u001b[0;34m(\u001b[0m\u001b[0;36m2\u001b[0m\u001b[0;34m**\u001b[0m\u001b[0;34m(\u001b[0m\u001b[0;34m-\u001b[0m\u001b[0mbck\u001b[0m\u001b[0;34m)\u001b[0m\u001b[0;34m)\u001b[0m\u001b[0;34m\u001b[0m\u001b[0;34m\u001b[0m\u001b[0m\n\u001b[0;32m--> 138\u001b[0;31m                 \u001b[0mvm\u001b[0m \u001b[0;34m=\u001b[0m \u001b[0mf\u001b[0m\u001b[0;34m(\u001b[0m\u001b[0mxx\u001b[0m\u001b[0;34m)\u001b[0m\u001b[0;34m[\u001b[0m\u001b[0;36m0\u001b[0m\u001b[0;34m]\u001b[0m\u001b[0;34m\u001b[0m\u001b[0;34m\u001b[0m\u001b[0m\n\u001b[0m\u001b[1;32m    139\u001b[0m                 \u001b[0merr\u001b[0m \u001b[0;34m=\u001b[0m \u001b[0mabs\u001b[0m\u001b[0;34m(\u001b[0m\u001b[0mvm\u001b[0m\u001b[0;34m)\u001b[0m\u001b[0;34m.\u001b[0m\u001b[0mmax\u001b[0m\u001b[0;34m(\u001b[0m\u001b[0;34m)\u001b[0m\u001b[0;34m\u001b[0m\u001b[0;34m\u001b[0m\u001b[0m\n\u001b[1;32m    140\u001b[0m                 \u001b[0;32mif\u001b[0m \u001b[0merr\u001b[0m \u001b[0;34m<\u001b[0m \u001b[0merror_0\u001b[0m\u001b[0;34m:\u001b[0m\u001b[0;34m\u001b[0m\u001b[0;34m\u001b[0m\u001b[0m\n",
            "\u001b[0;32m/usr/local/lib/python3.6/dist-packages/dolo/numeric/optimize/ncpsolve.py\u001b[0m in \u001b[0;36mfcmp\u001b[0;34m(z)\u001b[0m\n\u001b[1;32m     11\u001b[0m     \u001b[0;32mdef\u001b[0m \u001b[0mfcmp\u001b[0m\u001b[0;34m(\u001b[0m\u001b[0mz\u001b[0m\u001b[0;34m)\u001b[0m\u001b[0;34m:\u001b[0m\u001b[0;34m\u001b[0m\u001b[0;34m\u001b[0m\u001b[0m\n\u001b[1;32m     12\u001b[0m \u001b[0;34m\u001b[0m\u001b[0m\n\u001b[0;32m---> 13\u001b[0;31m         \u001b[0;34m[\u001b[0m\u001b[0mval\u001b[0m\u001b[0;34m,\u001b[0m \u001b[0mdval\u001b[0m\u001b[0;34m]\u001b[0m \u001b[0;34m=\u001b[0m \u001b[0mf\u001b[0m\u001b[0;34m(\u001b[0m\u001b[0mz\u001b[0m\u001b[0;34m)\u001b[0m\u001b[0;34m\u001b[0m\u001b[0;34m\u001b[0m\u001b[0m\n\u001b[0m\u001b[1;32m     14\u001b[0m \u001b[0;34m\u001b[0m\u001b[0m\n\u001b[1;32m     15\u001b[0m         \u001b[0;31m# revert convention\u001b[0m\u001b[0;34m\u001b[0m\u001b[0;34m\u001b[0m\u001b[0;34m\u001b[0m\u001b[0m\n",
            "\u001b[0;32m/usr/local/lib/python3.6/dist-packages/dolo/numeric/optimize/newton.py\u001b[0m in \u001b[0;36mdf\u001b[0;34m(x)\u001b[0m\n\u001b[1;32m    175\u001b[0m             \u001b[0mxi\u001b[0m\u001b[0;34m[\u001b[0m\u001b[0;34m:\u001b[0m\u001b[0;34m,\u001b[0m\u001b[0mi\u001b[0m\u001b[0;34m]\u001b[0m \u001b[0;34m+=\u001b[0m \u001b[0mepsilon\u001b[0m\u001b[0;34m\u001b[0m\u001b[0;34m\u001b[0m\u001b[0m\n\u001b[1;32m    176\u001b[0m \u001b[0;34m\u001b[0m\u001b[0m\n\u001b[0;32m--> 177\u001b[0;31m             \u001b[0mvi\u001b[0m \u001b[0;34m=\u001b[0m \u001b[0mf\u001b[0m\u001b[0;34m(\u001b[0m\u001b[0mxi\u001b[0m\u001b[0;34m)\u001b[0m\u001b[0;34m\u001b[0m\u001b[0;34m\u001b[0m\u001b[0m\n\u001b[0m\u001b[1;32m    178\u001b[0m \u001b[0;34m\u001b[0m\u001b[0m\n\u001b[1;32m    179\u001b[0m             \u001b[0mdv\u001b[0m\u001b[0;34m[\u001b[0m\u001b[0;34m:\u001b[0m\u001b[0;34m,\u001b[0m\u001b[0;34m:\u001b[0m\u001b[0;34m,\u001b[0m\u001b[0mi\u001b[0m\u001b[0;34m]\u001b[0m \u001b[0;34m=\u001b[0m \u001b[0;34m(\u001b[0m\u001b[0mvi\u001b[0m \u001b[0;34m-\u001b[0m \u001b[0mv0\u001b[0m\u001b[0;34m)\u001b[0m\u001b[0;34m/\u001b[0m\u001b[0mepsilon\u001b[0m\u001b[0;34m\u001b[0m\u001b[0;34m\u001b[0m\u001b[0m\n",
            "\u001b[0;32m/usr/local/lib/python3.6/dist-packages/dolo/algos/time_iteration.py\u001b[0m in \u001b[0;36m<lambda>\u001b[0;34m(x)\u001b[0m\n\u001b[1;32m    160\u001b[0m         \u001b[0mmdr\u001b[0m\u001b[0;34m.\u001b[0m\u001b[0mset_values\u001b[0m\u001b[0;34m(\u001b[0m\u001b[0mcontrols_0\u001b[0m\u001b[0;34m.\u001b[0m\u001b[0mreshape\u001b[0m\u001b[0;34m(\u001b[0m\u001b[0msh_c\u001b[0m\u001b[0;34m)\u001b[0m\u001b[0;34m)\u001b[0m\u001b[0;34m\u001b[0m\u001b[0;34m\u001b[0m\u001b[0m\n\u001b[1;32m    161\u001b[0m \u001b[0;34m\u001b[0m\u001b[0m\n\u001b[0;32m--> 162\u001b[0;31m         \u001b[0mfn\u001b[0m \u001b[0;34m=\u001b[0m \u001b[0;32mlambda\u001b[0m \u001b[0mx\u001b[0m\u001b[0;34m:\u001b[0m \u001b[0mresiduals_simple\u001b[0m\u001b[0;34m(\u001b[0m\u001b[0mf\u001b[0m\u001b[0;34m,\u001b[0m \u001b[0mg\u001b[0m\u001b[0;34m,\u001b[0m \u001b[0mgrid\u001b[0m\u001b[0;34m,\u001b[0m \u001b[0mx\u001b[0m\u001b[0;34m.\u001b[0m\u001b[0mreshape\u001b[0m\u001b[0;34m(\u001b[0m\u001b[0msh_c\u001b[0m\u001b[0;34m)\u001b[0m\u001b[0;34m,\u001b[0m \u001b[0mmdr\u001b[0m\u001b[0;34m,\u001b[0m \u001b[0mdprocess\u001b[0m\u001b[0;34m,\u001b[0m \u001b[0mparms\u001b[0m\u001b[0;34m)\u001b[0m\u001b[0;34m.\u001b[0m\u001b[0mreshape\u001b[0m\u001b[0;34m(\u001b[0m\u001b[0;34m(\u001b[0m\u001b[0;34m-\u001b[0m\u001b[0;36m1\u001b[0m\u001b[0;34m,\u001b[0m\u001b[0mn_x\u001b[0m\u001b[0;34m)\u001b[0m\u001b[0;34m)\u001b[0m\u001b[0;34m\u001b[0m\u001b[0;34m\u001b[0m\u001b[0m\n\u001b[0m\u001b[1;32m    163\u001b[0m         \u001b[0mdfn\u001b[0m \u001b[0;34m=\u001b[0m \u001b[0mSerialDifferentiableFunction\u001b[0m\u001b[0;34m(\u001b[0m\u001b[0mfn\u001b[0m\u001b[0;34m)\u001b[0m\u001b[0;34m\u001b[0m\u001b[0;34m\u001b[0m\u001b[0m\n\u001b[1;32m    164\u001b[0m \u001b[0;34m\u001b[0m\u001b[0m\n",
            "\u001b[0;32m/usr/local/lib/python3.6/dist-packages/dolo/algos/time_iteration.py\u001b[0m in \u001b[0;36mresiduals_simple\u001b[0;34m(f, g, s, x, dr, dprocess, parms)\u001b[0m\n\u001b[1;32m     22\u001b[0m             \u001b[0mprob\u001b[0m \u001b[0;34m=\u001b[0m \u001b[0mdprocess\u001b[0m\u001b[0;34m.\u001b[0m\u001b[0miweight\u001b[0m\u001b[0;34m(\u001b[0m\u001b[0mi_ms\u001b[0m\u001b[0;34m,\u001b[0m \u001b[0mI_ms\u001b[0m\u001b[0;34m)\u001b[0m\u001b[0;34m\u001b[0m\u001b[0;34m\u001b[0m\u001b[0m\n\u001b[1;32m     23\u001b[0m             \u001b[0mS\u001b[0m \u001b[0;34m=\u001b[0m \u001b[0mg\u001b[0m\u001b[0;34m(\u001b[0m\u001b[0mm\u001b[0m\u001b[0;34m,\u001b[0m \u001b[0ms\u001b[0m\u001b[0;34m,\u001b[0m \u001b[0mxm\u001b[0m\u001b[0;34m,\u001b[0m \u001b[0mM\u001b[0m\u001b[0;34m,\u001b[0m \u001b[0mparms\u001b[0m\u001b[0;34m)\u001b[0m\u001b[0;34m\u001b[0m\u001b[0;34m\u001b[0m\u001b[0m\n\u001b[0;32m---> 24\u001b[0;31m             \u001b[0mXM\u001b[0m \u001b[0;34m=\u001b[0m \u001b[0mdr\u001b[0m\u001b[0;34m.\u001b[0m\u001b[0meval_ijs\u001b[0m\u001b[0;34m(\u001b[0m\u001b[0mi_ms\u001b[0m\u001b[0;34m,\u001b[0m \u001b[0mI_ms\u001b[0m\u001b[0;34m,\u001b[0m \u001b[0mS\u001b[0m\u001b[0;34m)\u001b[0m\u001b[0;34m\u001b[0m\u001b[0;34m\u001b[0m\u001b[0m\n\u001b[0m\u001b[1;32m     25\u001b[0m             \u001b[0mrr\u001b[0m \u001b[0;34m=\u001b[0m \u001b[0mf\u001b[0m\u001b[0;34m(\u001b[0m\u001b[0mm\u001b[0m\u001b[0;34m,\u001b[0m\u001b[0ms\u001b[0m\u001b[0;34m,\u001b[0m\u001b[0mxm\u001b[0m\u001b[0;34m,\u001b[0m\u001b[0mM\u001b[0m\u001b[0;34m,\u001b[0m\u001b[0mS\u001b[0m\u001b[0;34m,\u001b[0m\u001b[0mXM\u001b[0m\u001b[0;34m,\u001b[0m\u001b[0mparms\u001b[0m\u001b[0;34m)\u001b[0m\u001b[0;34m\u001b[0m\u001b[0;34m\u001b[0m\u001b[0m\n\u001b[1;32m     26\u001b[0m             \u001b[0mres\u001b[0m\u001b[0;34m[\u001b[0m\u001b[0mi_ms\u001b[0m\u001b[0;34m,\u001b[0m\u001b[0;34m:\u001b[0m\u001b[0;34m,\u001b[0m\u001b[0;34m:\u001b[0m\u001b[0;34m]\u001b[0m \u001b[0;34m+=\u001b[0m \u001b[0mprob\u001b[0m\u001b[0;34m*\u001b[0m\u001b[0mrr\u001b[0m\u001b[0;34m\u001b[0m\u001b[0;34m\u001b[0m\u001b[0m\n",
            "\u001b[0;32m/usr/local/lib/python3.6/dist-packages/dolo/numeric/decision_rule.py\u001b[0m in \u001b[0;36meval_ijs\u001b[0;34m(self, i, j, s, out)\u001b[0m\n\u001b[1;32m    214\u001b[0m             \u001b[0mself\u001b[0m\u001b[0;34m.\u001b[0m\u001b[0meval_is\u001b[0m\u001b[0;34m(\u001b[0m\u001b[0mj\u001b[0m\u001b[0;34m,\u001b[0m \u001b[0ms\u001b[0m\u001b[0;34m,\u001b[0m \u001b[0mout\u001b[0m\u001b[0;34m=\u001b[0m\u001b[0mout\u001b[0m\u001b[0;34m)\u001b[0m\u001b[0;34m\u001b[0m\u001b[0;34m\u001b[0m\u001b[0m\n\u001b[1;32m    215\u001b[0m         \u001b[0;32melif\u001b[0m \u001b[0misinstance\u001b[0m\u001b[0;34m(\u001b[0m\u001b[0mself\u001b[0m\u001b[0;34m.\u001b[0m\u001b[0mexo_grid\u001b[0m\u001b[0;34m,\u001b[0m \u001b[0mEmptyGrid\u001b[0m\u001b[0;34m)\u001b[0m \u001b[0;32mand\u001b[0m \u001b[0misinstance\u001b[0m\u001b[0;34m(\u001b[0m\u001b[0mself\u001b[0m\u001b[0;34m.\u001b[0m\u001b[0mendo_grid\u001b[0m\u001b[0;34m,\u001b[0m \u001b[0;34m(\u001b[0m\u001b[0mCartesianGrid\u001b[0m\u001b[0;34m,\u001b[0m\u001b[0mSmolyakGrid\u001b[0m\u001b[0;34m)\u001b[0m\u001b[0;34m)\u001b[0m\u001b[0;34m:\u001b[0m\u001b[0;34m\u001b[0m\u001b[0;34m\u001b[0m\u001b[0m\n\u001b[0;32m--> 216\u001b[0;31m             \u001b[0mself\u001b[0m\u001b[0;34m.\u001b[0m\u001b[0meval_s\u001b[0m\u001b[0;34m(\u001b[0m\u001b[0ms\u001b[0m\u001b[0;34m,\u001b[0m \u001b[0mout\u001b[0m\u001b[0;34m=\u001b[0m\u001b[0mout\u001b[0m\u001b[0;34m)\u001b[0m\u001b[0;34m\u001b[0m\u001b[0;34m\u001b[0m\u001b[0m\n\u001b[0m\u001b[1;32m    217\u001b[0m         \u001b[0;32melif\u001b[0m \u001b[0misinstance\u001b[0m\u001b[0;34m(\u001b[0m\u001b[0mself\u001b[0m\u001b[0;34m.\u001b[0m\u001b[0mexo_grid\u001b[0m\u001b[0;34m,\u001b[0m \u001b[0mCartesianGrid\u001b[0m\u001b[0;34m)\u001b[0m \u001b[0;32mand\u001b[0m \u001b[0misinstance\u001b[0m\u001b[0;34m(\u001b[0m\u001b[0mself\u001b[0m\u001b[0;34m.\u001b[0m\u001b[0mendo_grid\u001b[0m\u001b[0;34m,\u001b[0m \u001b[0mCartesianGrid\u001b[0m\u001b[0;34m)\u001b[0m\u001b[0;34m:\u001b[0m\u001b[0;34m\u001b[0m\u001b[0;34m\u001b[0m\u001b[0m\n\u001b[1;32m    218\u001b[0m             \u001b[0mm\u001b[0m \u001b[0;34m=\u001b[0m \u001b[0mself\u001b[0m\u001b[0;34m.\u001b[0m\u001b[0mdprocess\u001b[0m\u001b[0;34m.\u001b[0m\u001b[0minode\u001b[0m\u001b[0;34m(\u001b[0m\u001b[0mi\u001b[0m\u001b[0;34m,\u001b[0m \u001b[0mj\u001b[0m\u001b[0;34m)\u001b[0m\u001b[0;34m\u001b[0m\u001b[0;34m\u001b[0m\u001b[0m\n",
            "\u001b[0;32m/usr/local/lib/python3.6/dist-packages/dolo/numeric/decision_rule.py\u001b[0m in \u001b[0;36meval_s\u001b[0;34m(self, s, out)\u001b[0m\n\u001b[1;32m    195\u001b[0m             \u001b[0mn\u001b[0m \u001b[0;34m=\u001b[0m \u001b[0mself\u001b[0m\u001b[0;34m.\u001b[0m\u001b[0mfull_grid\u001b[0m\u001b[0;34m.\u001b[0m\u001b[0mn\u001b[0m\u001b[0;34m\u001b[0m\u001b[0;34m\u001b[0m\u001b[0m\n\u001b[1;32m    196\u001b[0m             \u001b[0mcoeffs\u001b[0m \u001b[0;34m=\u001b[0m \u001b[0mself\u001b[0m\u001b[0;34m.\u001b[0m\u001b[0mcoefficients\u001b[0m\u001b[0;34m\u001b[0m\u001b[0;34m\u001b[0m\u001b[0m\n\u001b[0;32m--> 197\u001b[0;31m             \u001b[0mvec_eval_cubic_splines\u001b[0m\u001b[0;34m(\u001b[0m\u001b[0mmin\u001b[0m\u001b[0;34m,\u001b[0m \u001b[0mmax\u001b[0m\u001b[0;34m,\u001b[0m \u001b[0mn\u001b[0m\u001b[0;34m,\u001b[0m \u001b[0mcoeffs\u001b[0m\u001b[0;34m,\u001b[0m \u001b[0ms\u001b[0m\u001b[0;34m,\u001b[0m \u001b[0mout\u001b[0m\u001b[0;34m)\u001b[0m\u001b[0;34m\u001b[0m\u001b[0;34m\u001b[0m\u001b[0m\n\u001b[0m\u001b[1;32m    198\u001b[0m         \u001b[0;32melif\u001b[0m \u001b[0misinstance\u001b[0m\u001b[0;34m(\u001b[0m\u001b[0mself\u001b[0m\u001b[0;34m.\u001b[0m\u001b[0mexo_grid\u001b[0m\u001b[0;34m,\u001b[0m \u001b[0mEmptyGrid\u001b[0m\u001b[0;34m)\u001b[0m \u001b[0;32mand\u001b[0m \u001b[0misinstance\u001b[0m\u001b[0;34m(\u001b[0m\u001b[0mself\u001b[0m\u001b[0;34m.\u001b[0m\u001b[0mendo_grid\u001b[0m\u001b[0;34m,\u001b[0m \u001b[0mSmolyakGrid\u001b[0m\u001b[0;34m)\u001b[0m\u001b[0;34m:\u001b[0m\u001b[0;34m\u001b[0m\u001b[0;34m\u001b[0m\u001b[0m\n\u001b[1;32m    199\u001b[0m             \u001b[0mtrans_points\u001b[0m \u001b[0;34m=\u001b[0m \u001b[0mself\u001b[0m\u001b[0;34m.\u001b[0m\u001b[0msg\u001b[0m\u001b[0;34m.\u001b[0m\u001b[0mdom2cube\u001b[0m\u001b[0;34m(\u001b[0m\u001b[0ms\u001b[0m\u001b[0;34m)\u001b[0m\u001b[0;34m\u001b[0m\u001b[0;34m\u001b[0m\u001b[0m\n",
            "\u001b[0;32m/usr/local/lib/python3.6/dist-packages/interpolation/splines/eval_cubic.py\u001b[0m in \u001b[0;36mvec_eval_cubic_splines\u001b[0;34m(a, b, orders, mcoefs, points, values)\u001b[0m\n\u001b[1;32m    142\u001b[0m         \u001b[0;32mreturn\u001b[0m \u001b[0meval_cubic\u001b[0m\u001b[0;34m(\u001b[0m\u001b[0mgrid\u001b[0m\u001b[0;34m,\u001b[0m \u001b[0mmcoefs\u001b[0m\u001b[0;34m,\u001b[0m \u001b[0mpoints\u001b[0m\u001b[0;34m)\u001b[0m\u001b[0;34m\u001b[0m\u001b[0;34m\u001b[0m\u001b[0m\n\u001b[1;32m    143\u001b[0m     \u001b[0;32melse\u001b[0m\u001b[0;34m:\u001b[0m\u001b[0;34m\u001b[0m\u001b[0;34m\u001b[0m\u001b[0m\n\u001b[0;32m--> 144\u001b[0;31m         \u001b[0meval_cubic\u001b[0m\u001b[0;34m(\u001b[0m\u001b[0mgrid\u001b[0m\u001b[0;34m,\u001b[0m \u001b[0mmcoefs\u001b[0m\u001b[0;34m,\u001b[0m \u001b[0mpoints\u001b[0m\u001b[0;34m,\u001b[0m \u001b[0mvalues\u001b[0m\u001b[0;34m)\u001b[0m\u001b[0;34m\u001b[0m\u001b[0;34m\u001b[0m\u001b[0m\n\u001b[0m\u001b[1;32m    145\u001b[0m \u001b[0;34m\u001b[0m\u001b[0m\n\u001b[1;32m    146\u001b[0m \u001b[0;34m\u001b[0m\u001b[0m\n",
            "\u001b[0;31mKeyboardInterrupt\u001b[0m: "
          ]
        }
      ]
    },
    {
      "cell_type": "code",
      "metadata": {
        "id": "P4PDNTwwG_Tr",
        "colab_type": "code",
        "colab": {}
      },
      "source": [
        ""
      ],
      "execution_count": 0,
      "outputs": []
    }
  ]
}